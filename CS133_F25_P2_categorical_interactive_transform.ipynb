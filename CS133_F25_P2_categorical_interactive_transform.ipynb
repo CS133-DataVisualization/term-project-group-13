{
  "cells": [
    {
      "cell_type": "markdown",
      "source": [
        "# Project data exploration II -\n",
        "## plotting categorical plot and incorporating other data\n",
        "\n",
        "---\n",
        "\n",
        "\n",
        "We will continue to work with the dataset that your group is consider for the term project. In this notebook we will create some plot using the Seaborn module and the different categorical plots we practiced in class. Additionally, we will explore the idea of working with other datasets in addition to the one you originally selected to strengthen your argument."
      ],
      "metadata": {
        "id": "G1R_oERWiKtv"
      }
    },
    {
      "cell_type": "markdown",
      "source": [
        "Group name:  Group 13\n",
        "Created by Kaulan Serzhanuly, Shruthi Raghavan, Haitham Assaf (018226910) (017558515)\n",
        "Last updated: 10/11/2024  "
      ],
      "metadata": {
        "id": "Ml3CVbR8iSwb"
      }
    },
    {
      "cell_type": "code",
      "source": [
        "# import ur stuff here\n",
        "import plotly.express as px\n",
        "import pandas as pd\n",
        "import numpy as np\n",
        "import matplotlib.pyplot as plt\n",
        "import seaborn as sns\n",
        "import plotly.express as px\n",
        "import plotly.graph_objects as go\n",
        "from plotly.subplots import make_subplots\n",
        "import warnings\n",
        "warnings.filterwarnings('ignore')\n",
        "\n",
        "# Set plotting style\n",
        "plt.style.use('seaborn-v0_8-whitegrid')\n",
        "sns.set_palette(\"husl\")\n",
        "\n",
        "print(\"Libraries imported successfully!\")"
      ],
      "metadata": {
        "colab": {
          "base_uri": "https://localhost:8080/"
        },
        "id": "FP8xePVtzqva",
        "outputId": "d3681381-0714-4785-9beb-f1334b1b1453"
      },
      "execution_count": 2,
      "outputs": [
        {
          "output_type": "stream",
          "name": "stdout",
          "text": [
            "Libraries imported successfully!\n"
          ]
        }
      ]
    },
    {
      "cell_type": "code",
      "source": [
        "print(\"Loading datasets...\")\n",
        "vg_sales = pd.read_csv('https://raw.githubusercontent.com/CS133-DataVisualization/term-project-group-13/refs/heads/main/vg_sales_v1.csv')\n",
        "twitch_stats = pd.read_csv('https://raw.githubusercontent.com/CS133-DataVisualization/term-project-group-13/refs/heads/main/twitch_stats_v1.csv')\n",
        "\n",
        "# Merge datasets on Game column\n",
        "merged_df = pd.merge(vg_sales, twitch_stats, on='Game', how='inner')\n",
        "\n",
        "print(f\"Original games: {len(vg_sales)}\")\n",
        "print(f\"Twitch stats: {len(twitch_stats)}\")\n",
        "print(f\"Merged dataset: {len(merged_df)}\")\n",
        "print(\"\\nDataset loaded successfully!\")"
      ],
      "metadata": {
        "colab": {
          "base_uri": "https://localhost:8080/"
        },
        "id": "RWOUhWgH-Cwl",
        "outputId": "3563d4ec-e872-4343-fa35-335b1e4b23c6"
      },
      "execution_count": 3,
      "outputs": [
        {
          "output_type": "stream",
          "name": "stdout",
          "text": [
            "Loading datasets...\n",
            "Original games: 2500\n",
            "Twitch stats: 2500\n",
            "Merged dataset: 3834\n",
            "\n",
            "Dataset loaded successfully!\n"
          ]
        }
      ]
    },
    {
      "cell_type": "markdown",
      "source": [
        "### Q1: How clean is your data?  \n",
        "Do you have formatting concerns, null values, inconsistent data, etc... If so, explain what cleaning or reformating you have to do and how you plan to approach this cleaning steps.\n",
        "\n",
        "\n",
        "Our data is mostly clean and well-structured with consistent data types and realistic numeric ranges. The only notable issues are 587 missing values in the Region column and 492 duplicate game entries across both datasets, likely from multi-platform releases. We plan to handle missing Region values by filling them with \"Unknown\" and remove duplicate game rows to maintain one unique record per title. After these steps, the dataset will be fully ready for analysis."
      ],
      "metadata": {
        "id": "zmLRl47LAC6C"
      }
    },
    {
      "cell_type": "code",
      "source": [
        "print('=== DATA CLEANLINESS ANALYSIS ===')\n",
        "print(f'Dataset shapes:')\n",
        "print(f'vg_sales: {vg_sales.shape}')\n",
        "print(f'twitch_stats: {twitch_stats.shape}')\n",
        "\n",
        "print('\\n=== MISSING VALUES ===')\n",
        "print('vg_sales missing values:')\n",
        "print(vg_sales.isnull().sum())\n",
        "print('\\ntwitch_stats missing values:')\n",
        "print(twitch_stats.isnull().sum())\n",
        "\n",
        "print('\\n=== DATA TYPES ===')\n",
        "print('vg_sales dtypes:')\n",
        "print(vg_sales.dtypes)\n",
        "print('\\ntwitch_stats dtypes:')\n",
        "print(twitch_stats.dtypes)\n",
        "\n",
        "print('\\n=== DUPLICATE CHECK ===')\n",
        "print(f'Duplicate games in vg_sales: {vg_sales.duplicated(subset=[\"Game\"]).sum()}')\n",
        "print(f'Duplicate games in twitch_stats: {twitch_stats.duplicated(subset=[\"Game\"]).sum()}')\n",
        "\n",
        "print('\\n=== BASIC STATISTICS ===')\n",
        "print('vg_sales numeric columns:')\n",
        "print(vg_sales.describe())\n",
        "print('\\ntwitch_stats numeric columns:')\n",
        "print(twitch_stats.describe())\n"
      ],
      "metadata": {
        "colab": {
          "base_uri": "https://localhost:8080/"
        },
        "id": "YUCOxy0B9Lea",
        "outputId": "42e58e1c-a2e4-4d3d-c54a-b11825ecb6a7"
      },
      "execution_count": 4,
      "outputs": [
        {
          "output_type": "stream",
          "name": "stdout",
          "text": [
            "=== DATA CLEANLINESS ANALYSIS ===\n",
            "Dataset shapes:\n",
            "vg_sales: (2500, 14)\n",
            "twitch_stats: (2500, 6)\n",
            "\n",
            "=== MISSING VALUES ===\n",
            "vg_sales missing values:\n",
            "Game                  0\n",
            "Platform              0\n",
            "Genre                 0\n",
            "Publisher             0\n",
            "Year                  0\n",
            "Global_Sales_M        0\n",
            "Critic_Score          0\n",
            "User_Score            0\n",
            "ESRB_Rating           0\n",
            "Dev_Team_Size         0\n",
            "Budget_MUSD           0\n",
            "Region              587\n",
            "Franchise             0\n",
            "Metascore_Bucket      0\n",
            "dtype: int64\n",
            "\n",
            "twitch_stats missing values:\n",
            "Game                           0\n",
            "Avg_Concurrent_Viewers         0\n",
            "Peak_Concurrent_Viewers        0\n",
            "Monthly_Hours_Watched_M        0\n",
            "Streamer_Count                 0\n",
            "Streaming_Popularity_Bucket    0\n",
            "dtype: int64\n",
            "\n",
            "=== DATA TYPES ===\n",
            "vg_sales dtypes:\n",
            "Game                 object\n",
            "Platform             object\n",
            "Genre                object\n",
            "Publisher            object\n",
            "Year                  int64\n",
            "Global_Sales_M      float64\n",
            "Critic_Score          int64\n",
            "User_Score          float64\n",
            "ESRB_Rating          object\n",
            "Dev_Team_Size         int64\n",
            "Budget_MUSD         float64\n",
            "Region               object\n",
            "Franchise              bool\n",
            "Metascore_Bucket     object\n",
            "dtype: object\n",
            "\n",
            "twitch_stats dtypes:\n",
            "Game                            object\n",
            "Avg_Concurrent_Viewers           int64\n",
            "Peak_Concurrent_Viewers          int64\n",
            "Monthly_Hours_Watched_M        float64\n",
            "Streamer_Count                   int64\n",
            "Streaming_Popularity_Bucket     object\n",
            "dtype: object\n",
            "\n",
            "=== DUPLICATE CHECK ===\n",
            "Duplicate games in vg_sales: 492\n",
            "Duplicate games in twitch_stats: 492\n",
            "\n",
            "=== BASIC STATISTICS ===\n",
            "vg_sales numeric columns:\n",
            "              Year  Global_Sales_M  Critic_Score   User_Score  Dev_Team_Size  \\\n",
            "count  2500.000000     2500.000000   2500.000000  2500.000000    2500.000000   \n",
            "mean   2010.751600        0.374440     72.147600     7.207920      24.300400   \n",
            "std       7.871333        0.478929     10.632508     1.157017      15.828657   \n",
            "min    1985.000000        0.010000     36.000000     3.500000       3.000000   \n",
            "25%    2006.000000        0.090000     65.000000     6.400000      13.000000   \n",
            "50%    2013.000000        0.220000     72.000000     7.200000      20.000000   \n",
            "75%    2017.000000        0.480000     79.000000     8.000000      34.000000   \n",
            "max    2024.000000        5.480000     98.000000     9.800000     105.000000   \n",
            "\n",
            "       Budget_MUSD  \n",
            "count  2500.000000  \n",
            "mean     14.482520  \n",
            "std      14.771022  \n",
            "min       0.500000  \n",
            "25%       4.700000  \n",
            "50%       9.500000  \n",
            "75%      19.425000  \n",
            "max     124.200000  \n",
            "\n",
            "twitch_stats numeric columns:\n",
            "       Avg_Concurrent_Viewers  Peak_Concurrent_Viewers  \\\n",
            "count              2500.00000              2500.000000   \n",
            "mean                179.75800               371.603600   \n",
            "std                 660.75734              1170.568328   \n",
            "min                   0.00000                 0.000000   \n",
            "25%                  21.00000                40.000000   \n",
            "50%                  58.00000               121.000000   \n",
            "75%                 167.25000               334.000000   \n",
            "max               22982.00000             31150.000000   \n",
            "\n",
            "       Monthly_Hours_Watched_M  Streamer_Count  \n",
            "count              2500.000000     2500.000000  \n",
            "mean                 57.744120       12.902000  \n",
            "std                  45.732895       13.888584  \n",
            "min                   0.000000       10.000000  \n",
            "25%                  15.600000       10.000000  \n",
            "50%                  43.600000       10.000000  \n",
            "75%                 120.000000       13.000000  \n",
            "max                 120.000000      548.000000  \n"
          ]
        }
      ]
    },
    {
      "cell_type": "markdown",
      "metadata": {
        "id": "o67baSkq4odS"
      },
      "source": [
        "### Q2: Create a categorical plot\n",
        "Which video game genre has the highest average global sales?\n",
        "\n"
      ]
    },
    {
      "cell_type": "code",
      "source": [
        "#vg_sales = pd.read_csv(\"https://raw.githubusercontent.com/CS133-DataVisualization/term-project-group-13/refs/heads/main/vg_sales_v1.csv\")\n",
        "\n",
        "avg_sales = (\n",
        "    vg_sales.groupby(\"Genre\", as_index=False)[\"Global_Sales_M\"]\n",
        "    .mean()\n",
        "    .sort_values(\"Global_Sales_M\", ascending=False)\n",
        ")\n",
        "\n",
        "plt.figure(figsize=(12,6))\n",
        "sns.barplot(data=avg_sales, x=\"Genre\", y=\"Global_Sales_M\")\n",
        "plt.title(\"Average Global Sales by Game Genre\", pad=15)\n",
        "plt.xlabel(\"Game Genre\")\n",
        "plt.ylabel(\"Average Global Sales (millions)\")\n",
        "plt.xticks(rotation=40, ha=\"right\")\n",
        "plt.tight_layout()\n",
        "plt.show()\n"
      ],
      "metadata": {
        "id": "xQrjGTZb4rZE",
        "colab": {
          "base_uri": "https://localhost:8080/",
          "height": 607
        },
        "outputId": "d6bef869-7dcf-4994-8ba0-89b6dbd2487d"
      },
      "execution_count": 7,
      "outputs": [
        {
          "output_type": "display_data",
          "data": {
            "text/plain": [
              "<Figure size 1200x600 with 1 Axes>"
            ],
            "image/png": "[encoded data removed]"
          },
          "metadata": {}
        }
      ]
    },
    {
      "cell_type": "markdown",
      "source": [
        "This bar chart shows that Shooter, Action, and Sports genres have the highest average global sales, while Puzzle and Strategy genres are the lowest."
      ],
      "metadata": {
        "id": "0ckXebrd6ieE"
      }
    },
    {
      "cell_type": "markdown",
      "metadata": {
        "id": "2gBQnPbS4odT"
      },
      "source": [
        "### Q3: Come up with a another unique question. This question must use map() or apply()"
      ]
    },
    {
      "cell_type": "markdown",
      "source": [
        "Classify games into viewer popularity levels (“High”, “Medium”, “Low”) using the Avg_Concurrent_Viewers column"
      ],
      "metadata": {
        "id": "-_qtyj_6UpIT"
      }
    },
    {
      "cell_type": "code",
      "source": [
        "\n",
        "# Your code here . . .\n",
        "def viewer_popularity(viewers):\n",
        "    if viewers > 70:\n",
        "        return \"High\"\n",
        "    elif viewers >= 40:\n",
        "        return \"Medium\"\n",
        "    else:\n",
        "        return \"Low\"\n",
        "\n",
        "merged_df['Viewer_Popularity'] = merged_df['Avg_Concurrent_Viewers'].apply(viewer_popularity)\n",
        "merged_df[['Game', 'Avg_Concurrent_Viewers', 'Viewer_Popularity']].head()"
      ],
      "metadata": {
        "id": "iBBfjifl4tWD",
        "colab": {
          "base_uri": "https://localhost:8080/",
          "height": 204
        },
        "outputId": "f28b5a4c-7984-4aef-a05a-2f3d4c6801e1"
      },
      "execution_count": 15,
      "outputs": [
        {
          "output_type": "execute_result",
          "data": {
            "text/plain": [
              "              Game  Avg_Concurrent_Viewers Viewer_Popularity\n",
              "0   Bridge Odyssey                     342              High\n",
              "1   Bridge Odyssey                     453              High\n",
              "2  Variety Tales 5                      57            Medium\n",
              "3    Alien Command                     143              High\n",
              "4      Think Tales                       2               Low"
            ],
            "text/html": [
              "\n",
              "  <div id=\"df-2fc92d62-2c89-4e1e-b2d5-949b066825cc\" class=\"colab-df-container\">\n",
              "    <div>\n",
              "<style scoped>\n",
              "    .dataframe tbody tr th:only-of-type {\n",
              "        vertical-align: middle;\n",
              "    }\n",
              "\n",
              "    .dataframe tbody tr th {\n",
              "        vertical-align: top;\n",
              "    }\n",
              "\n",
              "    .dataframe thead th {\n",
              "        text-align: right;\n",
              "    }\n",
              "</style>\n",
              "<table border=\"1\" class=\"dataframe\">\n",
              "  <thead>\n",
              "    <tr style=\"text-align: right;\">\n",
              "      <th></th>\n",
              "      <th>Game</th>\n",
              "      <th>Avg_Concurrent_Viewers</th>\n",
              "      <th>Viewer_Popularity</th>\n",
              "    </tr>\n",
              "  </thead>\n",
              "  <tbody>\n",
              "    <tr>\n",
              "      <th>0</th>\n",
              "      <td>Bridge Odyssey</td>\n",
              "      <td>342</td>\n",
              "      <td>High</td>\n",
              "    </tr>\n",
              "    <tr>\n",
              "      <th>1</th>\n",
              "      <td>Bridge Odyssey</td>\n",
              "      <td>453</td>\n",
              "      <td>High</td>\n",
              "    </tr>\n",
              "    <tr>\n",
              "      <th>2</th>\n",
              "      <td>Variety Tales 5</td>\n",
              "      <td>57</td>\n",
              "      <td>Medium</td>\n",
              "    </tr>\n",
              "    <tr>\n",
              "      <th>3</th>\n",
              "      <td>Alien Command</td>\n",
              "      <td>143</td>\n",
              "      <td>High</td>\n",
              "    </tr>\n",
              "    <tr>\n",
              "      <th>4</th>\n",
              "      <td>Think Tales</td>\n",
              "      <td>2</td>\n",
              "      <td>Low</td>\n",
              "    </tr>\n",
              "  </tbody>\n",
              "</table>\n",
              "</div>\n",
              "    <div class=\"colab-df-buttons\">\n",
              "\n",
              "  <div class=\"colab-df-container\">\n",
              "    <button class=\"colab-df-convert\" onclick=\"convertToInteractive('df-2fc92d62-2c89-4e1e-b2d5-949b066825cc')\"\n",
              "            title=\"Convert this dataframe to an interactive table.\"\n",
              "            style=\"display:none;\">\n",
              "\n",
              "  <svg xmlns=\"http://www.w3.org/2000/svg\" height=\"24px\" viewBox=\"0 -960 960 960\">\n",
              "    <path d=\"M120-120v-720h720v720H120Zm60-500h600v-160H180v160Zm220 220h160v-160H400v160Zm0 220h160v-160H400v160ZM180-400h160v-160H180v160Zm440 0h160v-160H620v160ZM180-180h160v-160H180v160Zm440 0h160v-160H620v160Z\"/>\n",
              "  </svg>\n",
              "    </button>\n",
              "\n",
              "  <style>\n",
              "    .colab-df-container {\n",
              "      display:flex;\n",
              "      gap: 12px;\n",
              "    }\n",
              "\n",
              "    .colab-df-convert {\n",
              "      background-color: #E8F0FE;\n",
              "      border: none;\n",
              "      border-radius: 50%;\n",
              "      cursor: pointer;\n",
              "      display: none;\n",
              "      fill: #1967D2;\n",
              "      height: 32px;\n",
              "      padding: 0 0 0 0;\n",
              "      width: 32px;\n",
              "    }\n",
              "\n",
              "    .colab-df-convert:hover {\n",
              "      background-color: #E2EBFA;\n",
              "      box-shadow: 0px 1px 2px rgba(60, 64, 67, 0.3), 0px 1px 3px 1px rgba(60, 64, 67, 0.15);\n",
              "      fill: #174EA6;\n",
              "    }\n",
              "\n",
              "    .colab-df-buttons div {\n",
              "      margin-bottom: 4px;\n",
              "    }\n",
              "\n",
              "    [theme=dark] .colab-df-convert {\n",
              "      background-color: #3B4455;\n",
              "      fill: #D2E3FC;\n",
              "    }\n",
              "\n",
              "    [theme=dark] .colab-df-convert:hover {\n",
              "      background-color: #434B5C;\n",
              "      box-shadow: 0px 1px 3px 1px rgba(0, 0, 0, 0.15);\n",
              "      filter: drop-shadow(0px 1px 2px rgba(0, 0, 0, 0.3));\n",
              "      fill: #FFFFFF;\n",
              "    }\n",
              "  </style>\n",
              "\n",
              "    <script>\n",
              "      const buttonEl =\n",
              "        document.querySelector('#df-2fc92d62-2c89-4e1e-b2d5-949b066825cc button.colab-df-convert');\n",
              "      buttonEl.style.display =\n",
              "        google.colab.kernel.accessAllowed ? 'block' : 'none';\n",
              "\n",
              "      async function convertToInteractive(key) {\n",
              "        const element = document.querySelector('#df-2fc92d62-2c89-4e1e-b2d5-949b066825cc');\n",
              "        const dataTable =\n",
              "          await google.colab.kernel.invokeFunction('convertToInteractive',\n",
              "                                                    [key], {});\n",
              "        if (!dataTable) return;\n",
              "\n",
              "        const docLinkHtml = 'Like what you see? Visit the ' +\n",
              "          '<a target=\"_blank\" href=https://colab.research.google.com/notebooks/data_table.ipynb>data table notebook</a>'\n",
              "          + ' to learn more about interactive tables.';\n",
              "        element.innerHTML = '';\n",
              "        dataTable['output_type'] = 'display_data';\n",
              "        await google.colab.output.renderOutput(dataTable, element);\n",
              "        const docLink = document.createElement('div');\n",
              "        docLink.innerHTML = docLinkHtml;\n",
              "        element.appendChild(docLink);\n",
              "      }\n",
              "    </script>\n",
              "  </div>\n",
              "\n",
              "\n",
              "    <div id=\"df-5783fb9e-d17b-4cf9-8cee-a67bdc939e23\">\n",
              "      <button class=\"colab-df-quickchart\" onclick=\"quickchart('df-5783fb9e-d17b-4cf9-8cee-a67bdc939e23')\"\n",
              "                title=\"Suggest charts\"\n",
              "                style=\"display:none;\">\n",
              "\n",
              "<svg xmlns=\"http://www.w3.org/2000/svg\" height=\"24px\"viewBox=\"0 0 24 24\"\n",
              "     width=\"24px\">\n",
              "    <g>\n",
              "        <path d=\"M19 3H5c-1.1 0-2 .9-2 2v14c0 1.1.9 2 2 2h14c1.1 0 2-.9 2-2V5c0-1.1-.9-2-2-2zM9 17H7v-7h2v7zm4 0h-2V7h2v10zm4 0h-2v-4h2v4z\"/>\n",
              "    </g>\n",
              "</svg>\n",
              "      </button>\n",
              "\n",
              "<style>\n",
              "  .colab-df-quickchart {\n",
              "      --bg-color: #E8F0FE;\n",
              "      --fill-color: #1967D2;\n",
              "      --hover-bg-color: #E2EBFA;\n",
              "      --hover-fill-color: #174EA6;\n",
              "      --disabled-fill-color: #AAA;\n",
              "      --disabled-bg-color: #DDD;\n",
              "  }\n",
              "\n",
              "  [theme=dark] .colab-df-quickchart {\n",
              "      --bg-color: #3B4455;\n",
              "      --fill-color: #D2E3FC;\n",
              "      --hover-bg-color: #434B5C;\n",
              "      --hover-fill-color: #FFFFFF;\n",
              "      --disabled-bg-color: #3B4455;\n",
              "      --disabled-fill-color: #666;\n",
              "  }\n",
              "\n",
              "  .colab-df-quickchart {\n",
              "    background-color: var(--bg-color);\n",
              "    border: none;\n",
              "    border-radius: 50%;\n",
              "    cursor: pointer;\n",
              "    display: none;\n",
              "    fill: var(--fill-color);\n",
              "    height: 32px;\n",
              "    padding: 0;\n",
              "    width: 32px;\n",
              "  }\n",
              "\n",
              "  .colab-df-quickchart:hover {\n",
              "    background-color: var(--hover-bg-color);\n",
              "    box-shadow: 0 1px 2px rgba(60, 64, 67, 0.3), 0 1px 3px 1px rgba(60, 64, 67, 0.15);\n",
              "    fill: var(--button-hover-fill-color);\n",
              "  }\n",
              "\n",
              "  .colab-df-quickchart-complete:disabled,\n",
              "  .colab-df-quickchart-complete:disabled:hover {\n",
              "    background-color: var(--disabled-bg-color);\n",
              "    fill: var(--disabled-fill-color);\n",
              "    box-shadow: none;\n",
              "  }\n",
              "\n",
              "  .colab-df-spinner {\n",
              "    border: 2px solid var(--fill-color);\n",
              "    border-color: transparent;\n",
              "    border-bottom-color: var(--fill-color);\n",
              "    animation:\n",
              "      spin 1s steps(1) infinite;\n",
              "  }\n",
              "\n",
              "  @keyframes spin {\n",
              "    0% {\n",
              "      border-color: transparent;\n",
              "      border-bottom-color: var(--fill-color);\n",
              "      border-left-color: var(--fill-color);\n",
              "    }\n",
              "    20% {\n",
              "      border-color: transparent;\n",
              "      border-left-color: var(--fill-color);\n",
              "      border-top-color: var(--fill-color);\n",
              "    }\n",
              "    30% {\n",
              "      border-color: transparent;\n",
              "      border-left-color: var(--fill-color);\n",
              "      border-top-color: var(--fill-color);\n",
              "      border-right-color: var(--fill-color);\n",
              "    }\n",
              "    40% {\n",
              "      border-color: transparent;\n",
              "      border-right-color: var(--fill-color);\n",
              "      border-top-color: var(--fill-color);\n",
              "    }\n",
              "    60% {\n",
              "      border-color: transparent;\n",
              "      border-right-color: var(--fill-color);\n",
              "    }\n",
              "    80% {\n",
              "      border-color: transparent;\n",
              "      border-right-color: var(--fill-color);\n",
              "      border-bottom-color: var(--fill-color);\n",
              "    }\n",
              "    90% {\n",
              "      border-color: transparent;\n",
              "      border-bottom-color: var(--fill-color);\n",
              "    }\n",
              "  }\n",
              "</style>\n",
              "\n",
              "      <script>\n",
              "        async function quickchart(key) {\n",
              "          const quickchartButtonEl =\n",
              "            document.querySelector('#' + key + ' button');\n",
              "          quickchartButtonEl.disabled = true;  // To prevent multiple clicks.\n",
              "          quickchartButtonEl.classList.add('colab-df-spinner');\n",
              "          try {\n",
              "            const charts = await google.colab.kernel.invokeFunction(\n",
              "                'suggestCharts', [key], {});\n",
              "          } catch (error) {\n",
              "            console.error('Error during call to suggestCharts:', error);\n",
              "          }\n",
              "          quickchartButtonEl.classList.remove('colab-df-spinner');\n",
              "          quickchartButtonEl.classList.add('colab-df-quickchart-complete');\n",
              "        }\n",
              "        (() => {\n",
              "          let quickchartButtonEl =\n",
              "            document.querySelector('#df-5783fb9e-d17b-4cf9-8cee-a67bdc939e23 button');\n",
              "          quickchartButtonEl.style.display =\n",
              "            google.colab.kernel.accessAllowed ? 'block' : 'none';\n",
              "        })();\n",
              "      </script>\n",
              "    </div>\n",
              "\n",
              "    </div>\n",
              "  </div>\n"
            ],
            "application/vnd.google.colaboratory.intrinsic+json": {
              "type": "dataframe",
              "summary": "{\n  \"name\": \"merged_df[['Game', 'Avg_Concurrent_Viewers', 'Viewer_Popularity']]\",\n  \"rows\": 5,\n  \"fields\": [\n    {\n      \"column\": \"Game\",\n      \"properties\": {\n        \"dtype\": \"string\",\n        \"num_unique_values\": 4,\n        \"samples\": [\n          \"Variety Tales 5\",\n          \"Think Tales\",\n          \"Bridge Odyssey\"\n        ],\n        \"semantic_type\": \"\",\n        \"description\": \"\"\n      }\n    },\n    {\n      \"column\": \"Avg_Concurrent_Viewers\",\n      \"properties\": {\n        \"dtype\": \"number\",\n        \"std\": 191,\n        \"min\": 2,\n        \"max\": 453,\n        \"num_unique_values\": 5,\n        \"samples\": [\n          453,\n          2,\n          57\n        ],\n        \"semantic_type\": \"\",\n        \"description\": \"\"\n      }\n    },\n    {\n      \"column\": \"Viewer_Popularity\",\n      \"properties\": {\n        \"dtype\": \"string\",\n        \"num_unique_values\": 3,\n        \"samples\": [\n          \"High\",\n          \"Medium\",\n          \"Low\"\n        ],\n        \"semantic_type\": \"\",\n        \"description\": \"\"\n      }\n    }\n  ]\n}"
            }
          },
          "metadata": {},
          "execution_count": 15
        }
      ]
    },
    {
      "cell_type": "markdown",
      "source": [
        "### Q4: Create an interactive plot\n",
        "Create an interactive plot using plotly. Your plot can be a previously asked question or a new question, however explain how this interaction strengthen what you want to communicate with your audience."
      ],
      "metadata": {
        "id": "2QajJFw5j_Oe"
      }
    },
    {
      "cell_type": "code",
      "source": [
        "vg_sales[\"Global_Sales_USD\"] = vg_sales[\"Global_Sales_M\"] * 1_000_000\n",
        "\n",
        "avg_sales = (\n",
        "    vg_sales.groupby(\"Genre\", as_index=False)\n",
        "            .agg(Global_Sales_M=(\"Global_Sales_M\",\"mean\"),\n",
        "                 Total_Sales_USD=(\"Global_Sales_USD\",\"sum\"))\n",
        "            .sort_values(\"Global_Sales_M\", ascending=False)\n",
        ")\n",
        "\n",
        "fig = px.bar(\n",
        "    avg_sales,\n",
        "    x=\"Genre\",\n",
        "    y=\"Global_Sales_M\",\n",
        "    color=\"Global_Sales_M\",\n",
        "    color_continuous_scale=\"RdPu\",\n",
        "    title=\"Average Global Sales by Game Genre (Interactive)\",\n",
        "    custom_data=[\"Total_Sales_USD\"]\n",
        ")\n",
        "\n",
        "fig.update_traces(\n",
        "    hovertemplate=\"<b>%{x}</b><br>Total Sales: %{customdata[0]:$,.0f}<extra></extra>\"\n",
        ")\n",
        "\n",
        "fig.update_layout(\n",
        "    xaxis_title=\"Game Genre\",\n",
        "    yaxis_title=\"Average Global Sales (millions)\",\n",
        "    template=\"plotly_white\"\n",
        ")\n",
        "\n",
        "fig.show()\n"
      ],
      "metadata": {
        "id": "7jPqoJJdj-M7",
        "colab": {
          "base_uri": "https://localhost:8080/",
          "height": 542
        },
        "outputId": "c7308cdf-298e-4239-d793-1e58254e8364"
      },
      "execution_count": 10,
      "outputs": [
        {
          "output_type": "display_data",
          "data": {
            "text/html": [
              "<html>\n",
              "<head><meta charset=\"utf-8\" /></head>\n",
              "<body>\n",
              "    <div>            <script src=\"https://cdnjs.cloudflare.com/ajax/libs/mathjax/2.7.5/MathJax.js?config=TeX-AMS-MML_SVG\"></script><script type=\"text/javascript\">if (window.MathJax && window.MathJax.Hub && window.MathJax.Hub.Config) {window.MathJax.Hub.Config({SVG: {font: \"STIX-Web\"}});}</script>                <script type=\"text/javascript\">window.PlotlyConfig = {MathJaxConfig: 'local'};</script>\n",
              "        <script charset=\"utf-8\" src=\"https://cdn.plot.ly/plotly-2.35.2.min.js\"></script>                <div id=\"08ac19b5-3eaa-408b-8b51-20a3abe3ec96\" class=\"plotly-graph-div\" style=\"height:525px; width:100%;\"></div>            <script type=\"text/javascript\">                                    window.PLOTLYENV=window.PLOTLYENV || {};                                    if (document.getElementById(\"08ac19b5-3eaa-408b-8b51-20a3abe3ec96\")) {                    Plotly.newPlot(                        \"08ac19b5-3eaa-408b-8b51-20a3abe3ec96\",                        [{\"alignmentgroup\":\"True\",\"customdata\":[[140770000.0],[100990000.0],[114510000.0],[121090000.0],[67030000.0],[62330000.0],[56580000.0],[63860000.0],[52080000.0],[56150000.0],[35140000.0],[32460000.0],[33110000.0]],\"hovertemplate\":\"\\u003cb\\u003e%{x}\\u003c\\u002fb\\u003e\\u003cbr\\u003eTotal Sales: %{customdata[0]:$,.0f}\\u003cextra\\u003e\\u003c\\u002fextra\\u003e\",\"legendgroup\":\"\",\"marker\":{\"color\":[0.7038500000000001,0.5871511627906977,0.5783333333333334,0.5766190476190476,0.35094240837696333,0.3462777777777778,0.334792899408284,0.32917525773195877,0.2976,0.28075,0.16975845410628018,0.16731958762886598,0.15766666666666668],\"coloraxis\":\"coloraxis\",\"pattern\":{\"shape\":\"\"}},\"name\":\"\",\"offsetgroup\":\"\",\"orientation\":\"v\",\"showlegend\":false,\"textposition\":\"auto\",\"x\":[\"Shooter\",\"Action\",\"Sports\",\"Role-Playing\",\"Adventure\",\"Platform\",\"Simulation\",\"Party\",\"Racing\",\"Fighting\",\"Indie\",\"Strategy\",\"Puzzle\"],\"xaxis\":\"x\",\"y\":[0.7038500000000001,0.5871511627906977,0.5783333333333334,0.5766190476190476,0.35094240837696333,0.3462777777777778,0.334792899408284,0.32917525773195877,0.2976,0.28075,0.16975845410628018,0.16731958762886598,0.15766666666666668],\"yaxis\":\"y\",\"type\":\"bar\"}],                        {\"template\":{\"data\":{\"barpolar\":[{\"marker\":{\"line\":{\"color\":\"white\",\"width\":0.5},\"pattern\":{\"fillmode\":\"overlay\",\"size\":10,\"solidity\":0.2}},\"type\":\"barpolar\"}],\"bar\":[{\"error_x\":{\"color\":\"#2a3f5f\"},\"error_y\":{\"color\":\"#2a3f5f\"},\"marker\":{\"line\":{\"color\":\"white\",\"width\":0.5},\"pattern\":{\"fillmode\":\"overlay\",\"size\":10,\"solidity\":0.2}},\"type\":\"bar\"}],\"carpet\":[{\"aaxis\":{\"endlinecolor\":\"#2a3f5f\",\"gridcolor\":\"#C8D4E3\",\"linecolor\":\"#C8D4E3\",\"minorgridcolor\":\"#C8D4E3\",\"startlinecolor\":\"#2a3f5f\"},\"baxis\":{\"endlinecolor\":\"#2a3f5f\",\"gridcolor\":\"#C8D4E3\",\"linecolor\":\"#C8D4E3\",\"minorgridcolor\":\"#C8D4E3\",\"startlinecolor\":\"#2a3f5f\"},\"type\":\"carpet\"}],\"choropleth\":[{\"colorbar\":{\"outlinewidth\":0,\"ticks\":\"\"},\"type\":\"choropleth\"}],\"contourcarpet\":[{\"colorbar\":{\"outlinewidth\":0,\"ticks\":\"\"},\"type\":\"contourcarpet\"}],\"contour\":[{\"colorbar\":{\"outlinewidth\":0,\"ticks\":\"\"},\"colorscale\":[[0.0,\"#0d0887\"],[0.1111111111111111,\"#46039f\"],[0.2222222222222222,\"#7201a8\"],[0.3333333333333333,\"#9c179e\"],[0.4444444444444444,\"#bd3786\"],[0.5555555555555556,\"#d8576b\"],[0.6666666666666666,\"#ed7953\"],[0.7777777777777778,\"#fb9f3a\"],[0.8888888888888888,\"#fdca26\"],[1.0,\"#f0f921\"]],\"type\":\"contour\"}],\"heatmapgl\":[{\"colorbar\":{\"outlinewidth\":0,\"ticks\":\"\"},\"colorscale\":[[0.0,\"#0d0887\"],[0.1111111111111111,\"#46039f\"],[0.2222222222222222,\"#7201a8\"],[0.3333333333333333,\"#9c179e\"],[0.4444444444444444,\"#bd3786\"],[0.5555555555555556,\"#d8576b\"],[0.6666666666666666,\"#ed7953\"],[0.7777777777777778,\"#fb9f3a\"],[0.8888888888888888,\"#fdca26\"],[1.0,\"#f0f921\"]],\"type\":\"heatmapgl\"}],\"heatmap\":[{\"colorbar\":{\"outlinewidth\":0,\"ticks\":\"\"},\"colorscale\":[[0.0,\"#0d0887\"],[0.1111111111111111,\"#46039f\"],[0.2222222222222222,\"#7201a8\"],[0.3333333333333333,\"#9c179e\"],[0.4444444444444444,\"#bd3786\"],[0.5555555555555556,\"#d8576b\"],[0.6666666666666666,\"#ed7953\"],[0.7777777777777778,\"#fb9f3a\"],[0.8888888888888888,\"#fdca26\"],[1.0,\"#f0f921\"]],\"type\":\"heatmap\"}],\"histogram2dcontour\":[{\"colorbar\":{\"outlinewidth\":0,\"ticks\":\"\"},\"colorscale\":[[0.0,\"#0d0887\"],[0.1111111111111111,\"#46039f\"],[0.2222222222222222,\"#7201a8\"],[0.3333333333333333,\"#9c179e\"],[0.4444444444444444,\"#bd3786\"],[0.5555555555555556,\"#d8576b\"],[0.6666666666666666,\"#ed7953\"],[0.7777777777777778,\"#fb9f3a\"],[0.8888888888888888,\"#fdca26\"],[1.0,\"#f0f921\"]],\"type\":\"histogram2dcontour\"}],\"histogram2d\":[{\"colorbar\":{\"outlinewidth\":0,\"ticks\":\"\"},\"colorscale\":[[0.0,\"#0d0887\"],[0.1111111111111111,\"#46039f\"],[0.2222222222222222,\"#7201a8\"],[0.3333333333333333,\"#9c179e\"],[0.4444444444444444,\"#bd3786\"],[0.5555555555555556,\"#d8576b\"],[0.6666666666666666,\"#ed7953\"],[0.7777777777777778,\"#fb9f3a\"],[0.8888888888888888,\"#fdca26\"],[1.0,\"#f0f921\"]],\"type\":\"histogram2d\"}],\"histogram\":[{\"marker\":{\"pattern\":{\"fillmode\":\"overlay\",\"size\":10,\"solidity\":0.2}},\"type\":\"histogram\"}],\"mesh3d\":[{\"colorbar\":{\"outlinewidth\":0,\"ticks\":\"\"},\"type\":\"mesh3d\"}],\"parcoords\":[{\"line\":{\"colorbar\":{\"outlinewidth\":0,\"ticks\":\"\"}},\"type\":\"parcoords\"}],\"pie\":[{\"automargin\":true,\"type\":\"pie\"}],\"scatter3d\":[{\"line\":{\"colorbar\":{\"outlinewidth\":0,\"ticks\":\"\"}},\"marker\":{\"colorbar\":{\"outlinewidth\":0,\"ticks\":\"\"}},\"type\":\"scatter3d\"}],\"scattercarpet\":[{\"marker\":{\"colorbar\":{\"outlinewidth\":0,\"ticks\":\"\"}},\"type\":\"scattercarpet\"}],\"scattergeo\":[{\"marker\":{\"colorbar\":{\"outlinewidth\":0,\"ticks\":\"\"}},\"type\":\"scattergeo\"}],\"scattergl\":[{\"marker\":{\"colorbar\":{\"outlinewidth\":0,\"ticks\":\"\"}},\"type\":\"scattergl\"}],\"scattermapbox\":[{\"marker\":{\"colorbar\":{\"outlinewidth\":0,\"ticks\":\"\"}},\"type\":\"scattermapbox\"}],\"scatterpolargl\":[{\"marker\":{\"colorbar\":{\"outlinewidth\":0,\"ticks\":\"\"}},\"type\":\"scatterpolargl\"}],\"scatterpolar\":[{\"marker\":{\"colorbar\":{\"outlinewidth\":0,\"ticks\":\"\"}},\"type\":\"scatterpolar\"}],\"scatter\":[{\"fillpattern\":{\"fillmode\":\"overlay\",\"size\":10,\"solidity\":0.2},\"type\":\"scatter\"}],\"scatterternary\":[{\"marker\":{\"colorbar\":{\"outlinewidth\":0,\"ticks\":\"\"}},\"type\":\"scatterternary\"}],\"surface\":[{\"colorbar\":{\"outlinewidth\":0,\"ticks\":\"\"},\"colorscale\":[[0.0,\"#0d0887\"],[0.1111111111111111,\"#46039f\"],[0.2222222222222222,\"#7201a8\"],[0.3333333333333333,\"#9c179e\"],[0.4444444444444444,\"#bd3786\"],[0.5555555555555556,\"#d8576b\"],[0.6666666666666666,\"#ed7953\"],[0.7777777777777778,\"#fb9f3a\"],[0.8888888888888888,\"#fdca26\"],[1.0,\"#f0f921\"]],\"type\":\"surface\"}],\"table\":[{\"cells\":{\"fill\":{\"color\":\"#EBF0F8\"},\"line\":{\"color\":\"white\"}},\"header\":{\"fill\":{\"color\":\"#C8D4E3\"},\"line\":{\"color\":\"white\"}},\"type\":\"table\"}]},\"layout\":{\"annotationdefaults\":{\"arrowcolor\":\"#2a3f5f\",\"arrowhead\":0,\"arrowwidth\":1},\"autotypenumbers\":\"strict\",\"coloraxis\":{\"colorbar\":{\"outlinewidth\":0,\"ticks\":\"\"}},\"colorscale\":{\"diverging\":[[0,\"#8e0152\"],[0.1,\"#c51b7d\"],[0.2,\"#de77ae\"],[0.3,\"#f1b6da\"],[0.4,\"#fde0ef\"],[0.5,\"#f7f7f7\"],[0.6,\"#e6f5d0\"],[0.7,\"#b8e186\"],[0.8,\"#7fbc41\"],[0.9,\"#4d9221\"],[1,\"#276419\"]],\"sequential\":[[0.0,\"#0d0887\"],[0.1111111111111111,\"#46039f\"],[0.2222222222222222,\"#7201a8\"],[0.3333333333333333,\"#9c179e\"],[0.4444444444444444,\"#bd3786\"],[0.5555555555555556,\"#d8576b\"],[0.6666666666666666,\"#ed7953\"],[0.7777777777777778,\"#fb9f3a\"],[0.8888888888888888,\"#fdca26\"],[1.0,\"#f0f921\"]],\"sequentialminus\":[[0.0,\"#0d0887\"],[0.1111111111111111,\"#46039f\"],[0.2222222222222222,\"#7201a8\"],[0.3333333333333333,\"#9c179e\"],[0.4444444444444444,\"#bd3786\"],[0.5555555555555556,\"#d8576b\"],[0.6666666666666666,\"#ed7953\"],[0.7777777777777778,\"#fb9f3a\"],[0.8888888888888888,\"#fdca26\"],[1.0,\"#f0f921\"]]},\"colorway\":[\"#636efa\",\"#EF553B\",\"#00cc96\",\"#ab63fa\",\"#FFA15A\",\"#19d3f3\",\"#FF6692\",\"#B6E880\",\"#FF97FF\",\"#FECB52\"],\"font\":{\"color\":\"#2a3f5f\"},\"geo\":{\"bgcolor\":\"white\",\"lakecolor\":\"white\",\"landcolor\":\"white\",\"showlakes\":true,\"showland\":true,\"subunitcolor\":\"#C8D4E3\"},\"hoverlabel\":{\"align\":\"left\"},\"hovermode\":\"closest\",\"mapbox\":{\"style\":\"light\"},\"paper_bgcolor\":\"white\",\"plot_bgcolor\":\"white\",\"polar\":{\"angularaxis\":{\"gridcolor\":\"#EBF0F8\",\"linecolor\":\"#EBF0F8\",\"ticks\":\"\"},\"bgcolor\":\"white\",\"radialaxis\":{\"gridcolor\":\"#EBF0F8\",\"linecolor\":\"#EBF0F8\",\"ticks\":\"\"}},\"scene\":{\"xaxis\":{\"backgroundcolor\":\"white\",\"gridcolor\":\"#DFE8F3\",\"gridwidth\":2,\"linecolor\":\"#EBF0F8\",\"showbackground\":true,\"ticks\":\"\",\"zerolinecolor\":\"#EBF0F8\"},\"yaxis\":{\"backgroundcolor\":\"white\",\"gridcolor\":\"#DFE8F3\",\"gridwidth\":2,\"linecolor\":\"#EBF0F8\",\"showbackground\":true,\"ticks\":\"\",\"zerolinecolor\":\"#EBF0F8\"},\"zaxis\":{\"backgroundcolor\":\"white\",\"gridcolor\":\"#DFE8F3\",\"gridwidth\":2,\"linecolor\":\"#EBF0F8\",\"showbackground\":true,\"ticks\":\"\",\"zerolinecolor\":\"#EBF0F8\"}},\"shapedefaults\":{\"line\":{\"color\":\"#2a3f5f\"}},\"ternary\":{\"aaxis\":{\"gridcolor\":\"#DFE8F3\",\"linecolor\":\"#A2B1C6\",\"ticks\":\"\"},\"baxis\":{\"gridcolor\":\"#DFE8F3\",\"linecolor\":\"#A2B1C6\",\"ticks\":\"\"},\"bgcolor\":\"white\",\"caxis\":{\"gridcolor\":\"#DFE8F3\",\"linecolor\":\"#A2B1C6\",\"ticks\":\"\"}},\"title\":{\"x\":0.05},\"xaxis\":{\"automargin\":true,\"gridcolor\":\"#EBF0F8\",\"linecolor\":\"#EBF0F8\",\"ticks\":\"\",\"title\":{\"standoff\":15},\"zerolinecolor\":\"#EBF0F8\",\"zerolinewidth\":2},\"yaxis\":{\"automargin\":true,\"gridcolor\":\"#EBF0F8\",\"linecolor\":\"#EBF0F8\",\"ticks\":\"\",\"title\":{\"standoff\":15},\"zerolinecolor\":\"#EBF0F8\",\"zerolinewidth\":2}}},\"xaxis\":{\"anchor\":\"y\",\"domain\":[0.0,1.0],\"title\":{\"text\":\"Game Genre\"}},\"yaxis\":{\"anchor\":\"x\",\"domain\":[0.0,1.0],\"title\":{\"text\":\"Average Global Sales (millions)\"}},\"coloraxis\":{\"colorbar\":{\"title\":{\"text\":\"Global_Sales_M\"}},\"colorscale\":[[0.0,\"rgb(255,247,243)\"],[0.125,\"rgb(253,224,221)\"],[0.25,\"rgb(252,197,192)\"],[0.375,\"rgb(250,159,181)\"],[0.5,\"rgb(247,104,161)\"],[0.625,\"rgb(221,52,151)\"],[0.75,\"rgb(174,1,126)\"],[0.875,\"rgb(122,1,119)\"],[1.0,\"rgb(73,0,106)\"]]},\"legend\":{\"tracegroupgap\":0},\"title\":{\"text\":\"Average Global Sales by Game Genre (Interactive)\"},\"barmode\":\"relative\"},                        {\"responsive\": true}                    ).then(function(){\n",
              "                            \n",
              "var gd = document.getElementById('08ac19b5-3eaa-408b-8b51-20a3abe3ec96');\n",
              "var x = new MutationObserver(function (mutations, observer) {{\n",
              "        var display = window.getComputedStyle(gd).display;\n",
              "        if (!display || display === 'none') {{\n",
              "            console.log([gd, 'removed!']);\n",
              "            Plotly.purge(gd);\n",
              "            observer.disconnect();\n",
              "        }}\n",
              "}});\n",
              "\n",
              "// Listen for the removal of the full notebook cells\n",
              "var notebookContainer = gd.closest('#notebook-container');\n",
              "if (notebookContainer) {{\n",
              "    x.observe(notebookContainer, {childList: true});\n",
              "}}\n",
              "\n",
              "// Listen for the clearing of the current output cell\n",
              "var outputEl = gd.closest('.output');\n",
              "if (outputEl) {{\n",
              "    x.observe(outputEl, {childList: true});\n",
              "}}\n",
              "\n",
              "                        })                };                            </script>        </div>\n",
              "</body>\n",
              "</html>"
            ]
          },
          "metadata": {}
        }
      ]
    },
    {
      "cell_type": "markdown",
      "source": [
        "This interactive bar chart displays the average global sales by video game genre, with hover tooltips showing the total global sales in dollars. The interactivity allows users to explore the data more deeply they can hover to see exact sales values, compare genres precisely, and visually identify which genres generate the most revenue.\n"
      ],
      "metadata": {
        "id": "My6EjFs07k40"
      }
    },
    {
      "cell_type": "markdown",
      "source": [
        "## Q5: Additional datasets and data processing\n",
        "For the questions below you do not need to do the plotting if you have not found another complementary dataset. However, write the psuedocode of how you could go about answering the questions and sketches of what your visualization might be. Answer the following:\n",
        "\n",
        "What additional datasets would you need to find or create to help strengthen your data?\n",
        "How would you combine the dataset?\n",
        "Do you need to reshape your data and how could you go about it?\n",
        "\n",
        "\n",
        "To strengthen our video game dataset, we would incorporate several complementary data sources:\n",
        "\n",
        "Market data such as regional GDP, gaming market size, and platform growth rates.\n",
        "\n",
        "Social media and engagement data (Twitter, Reddit, YouTube) to analyze audience sentiment and online visibility.\n",
        "\n",
        "Technical and platform data including hardware sales and digital vs. physical sales ratios.\n",
        "\n",
        "Demographic and psychographic data showing player profiles, preferences, and cultural influences.\n",
        "\n",
        "Financial and business data like publisher revenue, marketing budgets, and development timelines.\n",
        "\n",
        "We would combine these datasets by aligning on release year, platform, and region. Temporal and geographic alignment would enable trend analysis, while mapping genres and platforms to demographic or social data could reveal audience patterns.\n",
        "\n",
        "Reshaping steps would include aggregating by region and year, normalizing metrics, and creating new derived features such as market share per genre or sales per marketing dollar."
      ],
      "metadata": {
        "id": "INxqWvFUCapx"
      }
    },
    {
      "cell_type": "code",
      "source": [
        "# Your code here . . .\n",
        "print(\"=== ADDITIONAL DATASETS NEEDED ===\")\n",
        "print(\"\\n1. MARKET DATA:\")\n",
        "print(\"   • Economic indicators (GDP, inflation) by region and year\")\n",
        "print(\"   • Gaming market size and growth rates by platform\")\n",
        "print(\"   • Competitor analysis and market share data\")\n",
        "print(\"   • Source: Industry reports, economic databases\")\n",
        "\n",
        "print(\"\\n2. SOCIAL MEDIA & ENGAGEMENT:\")\n",
        "print(\"   • Twitter mentions and sentiment analysis\")\n",
        "print(\"   • Reddit discussion volume and sentiment\")\n",
        "print(\"   • YouTube gaming channel coverage\")\n",
        "print(\"   • Source: Social media APIs, web scraping\")\n",
        "\n",
        "print(\"\\n3. TECHNICAL & PLATFORM DATA:\")\n",
        "print(\"   • Platform-specific technical capabilities\")\n",
        "print(\"   • Hardware sales data (consoles, PCs)\")\n",
        "print(\"   • Digital vs physical sales ratios\")\n",
        "print(\"   • Source: Platform manufacturers, industry reports\")\n",
        "\n",
        "print(\"\\n4. DEMOGRAPHIC & PSYCHOGRAPHIC DATA:\")\n",
        "print(\"   • Player demographics by genre/platform\")\n",
        "print(\"   • Gaming behavior patterns\")\n",
        "print(\"   • Cultural preferences by region\")\n",
        "print(\"   • Source: Surveys, market research firms\")\n",
        "\n",
        "print(\"\\n5. FINANCIAL & BUSINESS DATA:\")\n",
        "print(\"   • Publisher financial performance\")\n",
        "print(\"   • Marketing spend data\")\n",
        "print(\"   • Development timeline and delays\")\n",
        "print(\"   • Source: Financial reports, industry databases\")\n"
      ],
      "metadata": {
        "id": "Q_HBFKFcCbDp",
        "colab": {
          "base_uri": "https://localhost:8080/"
        },
        "outputId": "a352fc6a-49f8-4a89-d229-ec07999c9106"
      },
      "execution_count": 11,
      "outputs": [
        {
          "output_type": "stream",
          "name": "stdout",
          "text": [
            "=== ADDITIONAL DATASETS NEEDED ===\n",
            "\n",
            "1. MARKET DATA:\n",
            "   • Economic indicators (GDP, inflation) by region and year\n",
            "   • Gaming market size and growth rates by platform\n",
            "   • Competitor analysis and market share data\n",
            "   • Source: Industry reports, economic databases\n",
            "\n",
            "2. SOCIAL MEDIA & ENGAGEMENT:\n",
            "   • Twitter mentions and sentiment analysis\n",
            "   • Reddit discussion volume and sentiment\n",
            "   • YouTube gaming channel coverage\n",
            "   • Source: Social media APIs, web scraping\n",
            "\n",
            "3. TECHNICAL & PLATFORM DATA:\n",
            "   • Platform-specific technical capabilities\n",
            "   • Hardware sales data (consoles, PCs)\n",
            "   • Digital vs physical sales ratios\n",
            "   • Source: Platform manufacturers, industry reports\n",
            "\n",
            "4. DEMOGRAPHIC & PSYCHOGRAPHIC DATA:\n",
            "   • Player demographics by genre/platform\n",
            "   • Gaming behavior patterns\n",
            "   • Cultural preferences by region\n",
            "   • Source: Surveys, market research firms\n",
            "\n",
            "5. FINANCIAL & BUSINESS DATA:\n",
            "   • Publisher financial performance\n",
            "   • Marketing spend data\n",
            "   • Development timeline and delays\n",
            "   • Source: Financial reports, industry databases\n"
          ]
        }
      ]
    },
    {
      "cell_type": "code",
      "source": [
        "print(\"\\n=== DATA COMBINATION STRATEGY ===\")\n",
        "print(\"\\n1. TEMPORAL ALIGNMENT:\")\n",
        "print(\"   • Align all datasets by release year and month\")\n",
        "print(\"   • Create time-series features (seasonality, trends)\")\n",
        "print(\"   • Handle different data frequencies (daily, monthly, yearly)\")\n",
        "\n",
        "print(\"\\n2. GEOGRAPHIC MAPPING:\")\n",
        "print(\"   • Map regions to economic indicators\")\n",
        "print(\"   • Align cultural preferences with game genres\")\n",
        "print(\"   • Create region-specific performance metrics\")\n",
        "\n",
        "print(\"\\n3. PLATFORM INTEGRATION:\")\n",
        "print(\"   • Link platform capabilities to game performance\")\n",
        "print(\"   • Map hardware sales to game sales\")\n",
        "print(\"   • Create platform-specific market share metrics\")\n",
        "\n",
        "print(\"\\n4. GENRE & AUDIENCE MAPPING:\")\n",
        "print(\"   • Link genres to demographic preferences\")\n",
        "print(\"   • Map social media engagement to game types\")\n",
        "print(\"   • Create audience overlap matrices\")\n"
      ],
      "metadata": {
        "colab": {
          "base_uri": "https://localhost:8080/"
        },
        "id": "f3641ua99gCc",
        "outputId": "efdccb52-8709-403e-8550-02cc5de66ae7"
      },
      "execution_count": null,
      "outputs": [
        {
          "output_type": "stream",
          "name": "stdout",
          "text": [
            "\n",
            "=== DATA COMBINATION STRATEGY ===\n",
            "\n",
            "1. TEMPORAL ALIGNMENT:\n",
            "   • Align all datasets by release year and month\n",
            "   • Create time-series features (seasonality, trends)\n",
            "   • Handle different data frequencies (daily, monthly, yearly)\n",
            "\n",
            "2. GEOGRAPHIC MAPPING:\n",
            "   • Map regions to economic indicators\n",
            "   • Align cultural preferences with game genres\n",
            "   • Create region-specific performance metrics\n",
            "\n",
            "3. PLATFORM INTEGRATION:\n",
            "   • Link platform capabilities to game performance\n",
            "   • Map hardware sales to game sales\n",
            "   • Create platform-specific market share metrics\n",
            "\n",
            "4. GENRE & AUDIENCE MAPPING:\n",
            "   • Link genres to demographic preferences\n",
            "   • Map social media engagement to game types\n",
            "   • Create audience overlap matrices\n"
          ]
        }
      ]
    }
  ],
  "metadata": {
    "kernelspec": {
      "display_name": "Python 3",
      "language": "python",
      "name": "python3"
    },
    "language_info": {
      "codemirror_mode": {
        "name": "ipython",
        "version": 3
      },
      "file_extension": ".py",
      "mimetype": "text/x-python",
      "name": "python",
      "nbconvert_exporter": "python",
      "pygments_lexer": "ipython3",
      "version": "3.7.6"
    },
    "colab": {
      "provenance": []
    }
  },
  "nbformat": 4,
  "nbformat_minor": 0
}